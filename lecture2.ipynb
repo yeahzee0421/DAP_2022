{
  "cells": [
    {
      "cell_type": "markdown",
      "metadata": {
        "id": "view-in-github",
        "colab_type": "text"
      },
      "source": [
        "<a href=\"https://colab.research.google.com/github/yeahzee0421/DAP/blob/main/lecture2.ipynb\" target=\"_parent\"><img src=\"https://colab.research.google.com/assets/colab-badge.svg\" alt=\"Open In Colab\"/></a>"
      ]
    },
    {
      "cell_type": "code",
      "execution_count": null,
      "metadata": {
        "id": "HNPNzCabLo7S"
      },
      "outputs": [],
      "source": [
        "import numpy as np\n",
        "import pandas as pd\n",
        "\n",
        "np.random.seed(0)"
      ]
    },
    {
      "cell_type": "markdown",
      "metadata": {
        "id": "7BZpwooJxpkj"
      },
      "source": [
        "# NumPy Exercises!\n",
        "Complete the solution code to have a desired output.\n",
        "\n",
        "**[Caution!]** Not allow to use iteration, such as for-loop.\n",
        "\n",
        "\n",
        "\n"
      ]
    },
    {
      "cell_type": "markdown",
      "metadata": {
        "id": "kXhonLDSK0_j"
      },
      "source": [
        "### 1-1. Create a 5×5 numpy array of all False boolean’s \n",
        "[ref] [np.full](https://numpy.org/doc/stable/reference/generated/numpy.full.html)"
      ]
    },
    {
      "cell_type": "code",
      "execution_count": null,
      "metadata": {
        "colab": {
          "base_uri": "https://localhost:8080/"
        },
        "id": "wM9StYWNK0Xr",
        "outputId": "4adc6d5b-3675-49ea-f3ed-133519895f66"
      },
      "outputs": [
        {
          "output_type": "stream",
          "name": "stdout",
          "text": [
            "[[False False False False False]\n",
            " [False False False False False]\n",
            " [False False False False False]\n",
            " [False False False False False]\n",
            " [False False False False False]]\n"
          ]
        }
      ],
      "source": [
        "# Input\n",
        "arr_size = (5, 5)\n",
        "\n",
        "# Solution\n",
        "bool_arr = np.full(arr_size, False, dtype= 'bool')\n",
        "\n",
        "# Print\n",
        "print(bool_arr)"
      ]
    },
    {
      "cell_type": "markdown",
      "metadata": {
        "id": "jym9HJRqI0PS"
      },
      "source": [
        "### 1-2. Create a 7×7 diagonal matrix with diagonal index as 3.\n",
        "diagonal matrix: 2-D array with ones on the diagonal and zeros elsewhere. \n",
        "(hint, ref [np.eye](https://numpy.org/devdocs/reference/generated/numpy.eye.html))"
      ]
    },
    {
      "cell_type": "code",
      "execution_count": null,
      "metadata": {
        "colab": {
          "base_uri": "https://localhost:8080/"
        },
        "id": "wkkW6vazHa-n",
        "outputId": "21e64473-e95e-4951-fbf2-e1312e768bdf"
      },
      "outputs": [
        {
          "output_type": "stream",
          "name": "stdout",
          "text": [
            "[[0. 0. 0. 1. 0. 0. 0.]\n",
            " [0. 0. 0. 0. 1. 0. 0.]\n",
            " [0. 0. 0. 0. 0. 1. 0.]\n",
            " [0. 0. 0. 0. 0. 0. 1.]\n",
            " [0. 0. 0. 0. 0. 0. 0.]\n",
            " [0. 0. 0. 0. 0. 0. 0.]\n",
            " [0. 0. 0. 0. 0. 0. 0.]]\n"
          ]
        }
      ],
      "source": [
        "# Input\n",
        "size = 7\n",
        "\n",
        "# Solution\n",
        "np_arr = np.eye(size, k=3)\n",
        "\n",
        "# Print\n",
        "print(np_arr)"
      ]
    },
    {
      "cell_type": "markdown",
      "metadata": {
        "id": "pCTPSJIyMFAu"
      },
      "source": [
        "### 2. Extract even odd numbers from given `arr`"
      ]
    },
    {
      "cell_type": "code",
      "execution_count": null,
      "metadata": {
        "colab": {
          "base_uri": "https://localhost:8080/"
        },
        "id": "_XmWs6POMFuS",
        "outputId": "cbbfd205-594f-4463-d702-b83115eb5bf3"
      },
      "outputs": [
        {
          "output_type": "stream",
          "name": "stdout",
          "text": [
            "[ 0  2  4  6  8 10 12 14 16 18 20 22 24 26 28 30 32 34]\n"
          ]
        }
      ],
      "source": [
        "# Input\n",
        "arr = np.arange(35)\n",
        "\n",
        "# Solution\n",
        "arr = arr[arr%2 == 0]\n",
        "\n",
        "# Print\n",
        "print(arr)"
      ]
    },
    {
      "cell_type": "markdown",
      "metadata": {
        "id": "OAanUPrlNj-N"
      },
      "source": [
        "### 3. Get the positions where elements of `a` and `b` match\n",
        "(hint, refer [np.where](https://numpy.org/doc/stable/reference/generated/numpy.where.html).)\n",
        "\n"
      ]
    },
    {
      "cell_type": "code",
      "execution_count": null,
      "metadata": {
        "colab": {
          "base_uri": "https://localhost:8080/"
        },
        "id": "4VryzVtxNniI",
        "outputId": "0edf02e8-e505-4eb3-bcaa-6bfc639f10b7"
      },
      "outputs": [
        {
          "output_type": "stream",
          "name": "stdout",
          "text": [
            "(array([0, 4, 7, 9]),)\n",
            "[1 3 4 8]\n"
          ]
        }
      ],
      "source": [
        "# Input\n",
        "a = np.array([1, 7, 3, 2, 3, 5, 3, 4, 5, 8, 2, 6, 9])\n",
        "b = np.array([1, 2, 10, 8, 3, 4, 9, 4, 9, 8, 5, 3, 5])\n",
        "\n",
        "# Solution\n",
        "idx = np.where(a == b)\n",
        "\n",
        "# Print\n",
        "print(idx)\n",
        "\n",
        "#값 확인하고 싶다면?\n",
        "#print(a[idx])"
      ]
    },
    {
      "cell_type": "markdown",
      "metadata": {
        "id": "Golu0NHiZNq3"
      },
      "source": [
        "### 4. Find the median, standard deviation, average of iris's `sepallength` (1st column)."
      ]
    },
    {
      "cell_type": "code",
      "execution_count": null,
      "metadata": {
        "colab": {
          "base_uri": "https://localhost:8080/"
        },
        "id": "0ng7wdvoZpJe",
        "outputId": "a51c4274-c91a-419d-c811-6fa319b8ea2f"
      },
      "outputs": [
        {
          "output_type": "stream",
          "name": "stdout",
          "text": [
            "5.8 0.8253012917851409 5.843333333333334\n"
          ]
        }
      ],
      "source": [
        "# Input\n",
        "url = 'https://archive.ics.uci.edu/ml/machine-learning-databases/iris/iris.data'\n",
        "iris = np.genfromtxt(url, delimiter=',', dtype='object')\n",
        "sepallength = np.genfromtxt(url, delimiter=',', dtype='float', usecols=[0])\n",
        "\n",
        "# Solution\n",
        "med, std, avg = np.median(sepallength), np.std(sepallength), np.average(sepallength)\n",
        "\n",
        "# Print\n",
        "print(med, std, avg)"
      ]
    },
    {
      "cell_type": "markdown",
      "metadata": {
        "id": "RIFj650ubDpr"
      },
      "source": [
        "### 5. Find the duplicate entries (2nd occurrence onwards) in the given numpy array and mark them as True. First time occurrences should be False.\n",
        "(hint, refer [np.unique](https://numpy.org/doc/stable/reference/generated/numpy.unique.html).)"
      ]
    },
    {
      "cell_type": "code",
      "execution_count": null,
      "metadata": {
        "colab": {
          "base_uri": "https://localhost:8080/"
        },
        "id": "W7u4Od_obJfd",
        "outputId": "ad52d2c0-5fe5-4fbd-f1a6-692309808e54"
      },
      "outputs": [
        {
          "output_type": "stream",
          "name": "stdout",
          "text": [
            "Array:  [0 0 1 4 6 5 6 6 5 2]\n",
            "Duplicate entrie:  [False  True False False False False  True  True  True False]\n"
          ]
        }
      ],
      "source": [
        "# Input\n",
        "np.random.seed(50)\n",
        "a = np.random.randint(0, 10, 10)\n",
        "print('Array: ', a)\n",
        "\n",
        "# Solution\n",
        "## Create an all True array\n",
        "#out = np.full(10, True, dtype= 'bool')\n",
        "out = np.full(a.shape[0], True)\n",
        "\n",
        "## Find the index positions of unique elements\n",
        "unique_positions = np.unique(a, return_index = True)[1]\n",
        "\n",
        "## Mark those positions as False\n",
        "out[unique_positions] = False\n",
        "\n",
        "print('Duplicate entrie: ', out)"
      ]
    },
    {
      "cell_type": "markdown",
      "metadata": {
        "id": "Yx8npG2qeCCH"
      },
      "source": [
        "# Pandas Exercises!\n",
        "Complete the solution code to have a desired output. \n",
        "\n",
        "\n",
        "\n"
      ]
    },
    {
      "cell_type": "markdown",
      "metadata": {
        "id": "AF3TdV0ZepwD"
      },
      "source": [
        "### 6. Combine `ser1` and `ser2` to form a dataframe."
      ]
    },
    {
      "cell_type": "code",
      "execution_count": null,
      "metadata": {
        "colab": {
          "base_uri": "https://localhost:8080/"
        },
        "id": "AIV2AZO1ekG0",
        "outputId": "e90e68f6-433e-4194-81cf-edbfed0addde"
      },
      "outputs": [
        {
          "output_type": "stream",
          "name": "stdout",
          "text": [
            "    A   B\n",
            "21  v  21\n",
            "22  w  22\n",
            "23  x  23\n",
            "24  y  24\n",
            "25  z  25\n"
          ]
        }
      ],
      "source": [
        "# Input\n",
        "ser1 = pd.Series(list('abcedfghijklmnopqrstuvwxyz'))\n",
        "ser2 = pd.Series(np.arange(26))\n",
        "\n",
        "# Solution \n",
        "df = pd.DataFrame({'A' : ser1, 'B' : ser2})\n",
        "\n",
        "# Print\n",
        "print(df.tail())"
      ]
    },
    {
      "cell_type": "markdown",
      "metadata": {
        "id": "b6JSzVmsi6fo"
      },
      "source": [
        "### 7. Check if `df` has any missing values."
      ]
    },
    {
      "cell_type": "code",
      "execution_count": null,
      "metadata": {
        "colab": {
          "base_uri": "https://localhost:8080/"
        },
        "id": "dhqka6BNi8wF",
        "outputId": "b6450add-0609-4e35-94d7-0662065d349f"
      },
      "outputs": [
        {
          "output_type": "stream",
          "name": "stdout",
          "text": [
            "  Manufacturer    Model     Type  Min.Price  Price  Max.Price  MPG.city  \\\n",
            "0        Acura  Integra    Small       12.9   15.9       18.8      25.0   \n",
            "1          NaN   Legend  Midsize       29.2   33.9       38.7      18.0   \n",
            "2         Audi       90  Compact       25.9   29.1       32.3      20.0   \n",
            "3         Audi      100  Midsize        NaN   37.7       44.6      19.0   \n",
            "4          BMW     535i  Midsize        NaN   30.0        NaN      22.0   \n",
            "\n",
            "   MPG.highway             AirBags DriveTrain  ... Passengers  Length  \\\n",
            "0         31.0                None      Front  ...        5.0   177.0   \n",
            "1         25.0  Driver & Passenger      Front  ...        5.0   195.0   \n",
            "2         26.0         Driver only      Front  ...        5.0   180.0   \n",
            "3         26.0  Driver & Passenger        NaN  ...        6.0   193.0   \n",
            "4         30.0                 NaN       Rear  ...        4.0   186.0   \n",
            "\n",
            "   Wheelbase  Width  Turn.circle Rear.seat.room  Luggage.room  Weight  \\\n",
            "0      102.0   68.0         37.0           26.5           NaN  2705.0   \n",
            "1      115.0   71.0         38.0           30.0          15.0  3560.0   \n",
            "2      102.0   67.0         37.0           28.0          14.0  3375.0   \n",
            "3      106.0    NaN         37.0           31.0          17.0  3405.0   \n",
            "4      109.0   69.0         39.0           27.0          13.0  3640.0   \n",
            "\n",
            "    Origin           Make  \n",
            "0  non-USA  Acura Integra  \n",
            "1  non-USA   Acura Legend  \n",
            "2  non-USA        Audi 90  \n",
            "3  non-USA       Audi 100  \n",
            "4  non-USA       BMW 535i  \n",
            "\n",
            "[5 rows x 27 columns]\n",
            "\n",
            "Is there any missing value?: True\n"
          ]
        }
      ],
      "source": [
        "# Input\n",
        "df = pd.read_csv('https://raw.githubusercontent.com/selva86/datasets/master/Cars93_miss.csv')\n",
        "print(df.head())\n",
        "\n",
        "# Solution\n",
        "print('\\nIs there any missing value?:', df.isnull().values.any())"
      ]
    },
    {
      "cell_type": "markdown",
      "metadata": {
        "id": "0jhPg-fJff9y"
      },
      "source": [
        "### 8. Create a TimeSeries starting `2022-09-01` and 7 weekends (mondays) after that **having** random numbers as values?"
      ]
    },
    {
      "cell_type": "code",
      "execution_count": null,
      "metadata": {
        "colab": {
          "base_uri": "https://localhost:8080/"
        },
        "id": "GL6TjFcCfmpt",
        "outputId": "dcca35f8-b4d6-4256-897c-8e1cd2ba267a"
      },
      "outputs": [
        {
          "output_type": "stream",
          "name": "stdout",
          "text": [
            "0   2022-09-05\n",
            "1   2022-09-12\n",
            "2   2022-09-19\n",
            "3   2022-09-26\n",
            "4   2022-10-03\n",
            "5   2022-10-10\n",
            "6   2022-10-17\n",
            "dtype: datetime64[ns]\n"
          ]
        }
      ],
      "source": [
        "# Solution\n",
        "ser = pd.Series(pd.date_range('2022-09-01', periods = 7, freq='W-MON')) \n",
        "print(ser)"
      ]
    },
    {
      "cell_type": "markdown",
      "metadata": {
        "id": "P1-wKPtmkcxe"
      },
      "source": [
        "### 9. In `df`, compute the median price of every fruit using grouping function."
      ]
    },
    {
      "cell_type": "code",
      "execution_count": null,
      "metadata": {
        "colab": {
          "base_uri": "https://localhost:8080/"
        },
        "id": "7fa0q1N5kfbT",
        "outputId": "d6b60dec-238e-4a08-f3e0-9166fd900e3d"
      },
      "outputs": [
        {
          "output_type": "execute_result",
          "data": {
            "text/plain": [
              "fruit\n",
              "apple        10.0\n",
              "banana        9.0\n",
              "blueberry    17.0\n",
              "melon        14.0\n",
              "orange       10.0\n",
              "Name: price, dtype: float64"
            ]
          },
          "metadata": {},
          "execution_count": 38
        }
      ],
      "source": [
        "# Input\n",
        "df = pd.DataFrame({'fruit': ['apple', 'banana', 'orange', 'blueberry', 'melon'] * 5,\n",
        "                   'rating': np.random.rand(25),\n",
        "                   'price': np.random.randint(0, 20, 25)})\n",
        "\n",
        "# Solution\n",
        "df.groupby('fruit')['price'].median()\n",
        "\n",
        "#std\n",
        "#df.groupby('fruit')['price'].std()"
      ]
    },
    {
      "cell_type": "markdown",
      "metadata": {
        "id": "ZSInSrZWldXS"
      },
      "source": [
        "### 10. Join two dataframes `df1` and `df2` for intersection items on `use_id`.\n",
        "For `df2`, please select only `use_id`, `platform`, `device` columns not all columns for merging."
      ]
    },
    {
      "cell_type": "code",
      "execution_count": null,
      "metadata": {
        "colab": {
          "base_uri": "https://localhost:8080/",
          "height": 424
        },
        "id": "gAMtcVrSllcc",
        "outputId": "7de74947-f0a8-4b46-b851-fa103235b6b0"
      },
      "outputs": [
        {
          "output_type": "execute_result",
          "data": {
            "text/plain": [
              "     outgoing_mins_per_month  outgoing_sms_per_month  monthly_mb  use_id  \\\n",
              "0                      21.97                    4.82     1557.33   22787   \n",
              "1                    1710.08                  136.88     7267.55   22788   \n",
              "2                    1710.08                  136.88     7267.55   22789   \n",
              "3                      94.46                   35.17      519.12   22790   \n",
              "4                      71.59                   79.26     1557.33   22792   \n",
              "..                       ...                     ...         ...     ...   \n",
              "154                   198.59                   90.49     5191.12   23043   \n",
              "155                   198.59                   90.49     3114.67   23044   \n",
              "156                   106.65                   82.13     5191.12   23046   \n",
              "157                   344.53                   20.53      519.12   23049   \n",
              "158                    42.75                   46.83     5191.12   23053   \n",
              "\n",
              "    platform                  device  \n",
              "0    android                GT-I9505  \n",
              "1    android                SM-G930F  \n",
              "2    android                SM-G930F  \n",
              "3    android                   D2303  \n",
              "4    android                SM-G361F  \n",
              "..       ...                     ...  \n",
              "154  android                SM-G900F  \n",
              "155  android                SM-G900F  \n",
              "156  android              Moto G (4)  \n",
              "157  android                SM-G900F  \n",
              "158  android  Vodafone Smart ultra 6  \n",
              "\n",
              "[159 rows x 6 columns]"
            ],
            "text/html": [
              "\n",
              "  <div id=\"df-d134406c-f803-4cc3-9538-353d0f33b3c7\">\n",
              "    <div class=\"colab-df-container\">\n",
              "      <div>\n",
              "<style scoped>\n",
              "    .dataframe tbody tr th:only-of-type {\n",
              "        vertical-align: middle;\n",
              "    }\n",
              "\n",
              "    .dataframe tbody tr th {\n",
              "        vertical-align: top;\n",
              "    }\n",
              "\n",
              "    .dataframe thead th {\n",
              "        text-align: right;\n",
              "    }\n",
              "</style>\n",
              "<table border=\"1\" class=\"dataframe\">\n",
              "  <thead>\n",
              "    <tr style=\"text-align: right;\">\n",
              "      <th></th>\n",
              "      <th>outgoing_mins_per_month</th>\n",
              "      <th>outgoing_sms_per_month</th>\n",
              "      <th>monthly_mb</th>\n",
              "      <th>use_id</th>\n",
              "      <th>platform</th>\n",
              "      <th>device</th>\n",
              "    </tr>\n",
              "  </thead>\n",
              "  <tbody>\n",
              "    <tr>\n",
              "      <th>0</th>\n",
              "      <td>21.97</td>\n",
              "      <td>4.82</td>\n",
              "      <td>1557.33</td>\n",
              "      <td>22787</td>\n",
              "      <td>android</td>\n",
              "      <td>GT-I9505</td>\n",
              "    </tr>\n",
              "    <tr>\n",
              "      <th>1</th>\n",
              "      <td>1710.08</td>\n",
              "      <td>136.88</td>\n",
              "      <td>7267.55</td>\n",
              "      <td>22788</td>\n",
              "      <td>android</td>\n",
              "      <td>SM-G930F</td>\n",
              "    </tr>\n",
              "    <tr>\n",
              "      <th>2</th>\n",
              "      <td>1710.08</td>\n",
              "      <td>136.88</td>\n",
              "      <td>7267.55</td>\n",
              "      <td>22789</td>\n",
              "      <td>android</td>\n",
              "      <td>SM-G930F</td>\n",
              "    </tr>\n",
              "    <tr>\n",
              "      <th>3</th>\n",
              "      <td>94.46</td>\n",
              "      <td>35.17</td>\n",
              "      <td>519.12</td>\n",
              "      <td>22790</td>\n",
              "      <td>android</td>\n",
              "      <td>D2303</td>\n",
              "    </tr>\n",
              "    <tr>\n",
              "      <th>4</th>\n",
              "      <td>71.59</td>\n",
              "      <td>79.26</td>\n",
              "      <td>1557.33</td>\n",
              "      <td>22792</td>\n",
              "      <td>android</td>\n",
              "      <td>SM-G361F</td>\n",
              "    </tr>\n",
              "    <tr>\n",
              "      <th>...</th>\n",
              "      <td>...</td>\n",
              "      <td>...</td>\n",
              "      <td>...</td>\n",
              "      <td>...</td>\n",
              "      <td>...</td>\n",
              "      <td>...</td>\n",
              "    </tr>\n",
              "    <tr>\n",
              "      <th>154</th>\n",
              "      <td>198.59</td>\n",
              "      <td>90.49</td>\n",
              "      <td>5191.12</td>\n",
              "      <td>23043</td>\n",
              "      <td>android</td>\n",
              "      <td>SM-G900F</td>\n",
              "    </tr>\n",
              "    <tr>\n",
              "      <th>155</th>\n",
              "      <td>198.59</td>\n",
              "      <td>90.49</td>\n",
              "      <td>3114.67</td>\n",
              "      <td>23044</td>\n",
              "      <td>android</td>\n",
              "      <td>SM-G900F</td>\n",
              "    </tr>\n",
              "    <tr>\n",
              "      <th>156</th>\n",
              "      <td>106.65</td>\n",
              "      <td>82.13</td>\n",
              "      <td>5191.12</td>\n",
              "      <td>23046</td>\n",
              "      <td>android</td>\n",
              "      <td>Moto G (4)</td>\n",
              "    </tr>\n",
              "    <tr>\n",
              "      <th>157</th>\n",
              "      <td>344.53</td>\n",
              "      <td>20.53</td>\n",
              "      <td>519.12</td>\n",
              "      <td>23049</td>\n",
              "      <td>android</td>\n",
              "      <td>SM-G900F</td>\n",
              "    </tr>\n",
              "    <tr>\n",
              "      <th>158</th>\n",
              "      <td>42.75</td>\n",
              "      <td>46.83</td>\n",
              "      <td>5191.12</td>\n",
              "      <td>23053</td>\n",
              "      <td>android</td>\n",
              "      <td>Vodafone Smart ultra 6</td>\n",
              "    </tr>\n",
              "  </tbody>\n",
              "</table>\n",
              "<p>159 rows × 6 columns</p>\n",
              "</div>\n",
              "      <button class=\"colab-df-convert\" onclick=\"convertToInteractive('df-d134406c-f803-4cc3-9538-353d0f33b3c7')\"\n",
              "              title=\"Convert this dataframe to an interactive table.\"\n",
              "              style=\"display:none;\">\n",
              "        \n",
              "  <svg xmlns=\"http://www.w3.org/2000/svg\" height=\"24px\"viewBox=\"0 0 24 24\"\n",
              "       width=\"24px\">\n",
              "    <path d=\"M0 0h24v24H0V0z\" fill=\"none\"/>\n",
              "    <path d=\"M18.56 5.44l.94 2.06.94-2.06 2.06-.94-2.06-.94-.94-2.06-.94 2.06-2.06.94zm-11 1L8.5 8.5l.94-2.06 2.06-.94-2.06-.94L8.5 2.5l-.94 2.06-2.06.94zm10 10l.94 2.06.94-2.06 2.06-.94-2.06-.94-.94-2.06-.94 2.06-2.06.94z\"/><path d=\"M17.41 7.96l-1.37-1.37c-.4-.4-.92-.59-1.43-.59-.52 0-1.04.2-1.43.59L10.3 9.45l-7.72 7.72c-.78.78-.78 2.05 0 2.83L4 21.41c.39.39.9.59 1.41.59.51 0 1.02-.2 1.41-.59l7.78-7.78 2.81-2.81c.8-.78.8-2.07 0-2.86zM5.41 20L4 18.59l7.72-7.72 1.47 1.35L5.41 20z\"/>\n",
              "  </svg>\n",
              "      </button>\n",
              "      \n",
              "  <style>\n",
              "    .colab-df-container {\n",
              "      display:flex;\n",
              "      flex-wrap:wrap;\n",
              "      gap: 12px;\n",
              "    }\n",
              "\n",
              "    .colab-df-convert {\n",
              "      background-color: #E8F0FE;\n",
              "      border: none;\n",
              "      border-radius: 50%;\n",
              "      cursor: pointer;\n",
              "      display: none;\n",
              "      fill: #1967D2;\n",
              "      height: 32px;\n",
              "      padding: 0 0 0 0;\n",
              "      width: 32px;\n",
              "    }\n",
              "\n",
              "    .colab-df-convert:hover {\n",
              "      background-color: #E2EBFA;\n",
              "      box-shadow: 0px 1px 2px rgba(60, 64, 67, 0.3), 0px 1px 3px 1px rgba(60, 64, 67, 0.15);\n",
              "      fill: #174EA6;\n",
              "    }\n",
              "\n",
              "    [theme=dark] .colab-df-convert {\n",
              "      background-color: #3B4455;\n",
              "      fill: #D2E3FC;\n",
              "    }\n",
              "\n",
              "    [theme=dark] .colab-df-convert:hover {\n",
              "      background-color: #434B5C;\n",
              "      box-shadow: 0px 1px 3px 1px rgba(0, 0, 0, 0.15);\n",
              "      filter: drop-shadow(0px 1px 2px rgba(0, 0, 0, 0.3));\n",
              "      fill: #FFFFFF;\n",
              "    }\n",
              "  </style>\n",
              "\n",
              "      <script>\n",
              "        const buttonEl =\n",
              "          document.querySelector('#df-d134406c-f803-4cc3-9538-353d0f33b3c7 button.colab-df-convert');\n",
              "        buttonEl.style.display =\n",
              "          google.colab.kernel.accessAllowed ? 'block' : 'none';\n",
              "\n",
              "        async function convertToInteractive(key) {\n",
              "          const element = document.querySelector('#df-d134406c-f803-4cc3-9538-353d0f33b3c7');\n",
              "          const dataTable =\n",
              "            await google.colab.kernel.invokeFunction('convertToInteractive',\n",
              "                                                     [key], {});\n",
              "          if (!dataTable) return;\n",
              "\n",
              "          const docLinkHtml = 'Like what you see? Visit the ' +\n",
              "            '<a target=\"_blank\" href=https://colab.research.google.com/notebooks/data_table.ipynb>data table notebook</a>'\n",
              "            + ' to learn more about interactive tables.';\n",
              "          element.innerHTML = '';\n",
              "          dataTable['output_type'] = 'display_data';\n",
              "          await google.colab.output.renderOutput(dataTable, element);\n",
              "          const docLink = document.createElement('div');\n",
              "          docLink.innerHTML = docLinkHtml;\n",
              "          element.appendChild(docLink);\n",
              "        }\n",
              "      </script>\n",
              "    </div>\n",
              "  </div>\n",
              "  "
            ]
          },
          "metadata": {},
          "execution_count": 39
        }
      ],
      "source": [
        "# Input\n",
        "base_path = 'https://raw.githubusercontent.com/shanealynn/Pandas-Merge-Tutorial/master/'\n",
        "df1 = pd.read_csv(base_path + 'user_usage.csv')\n",
        "df2 = pd.read_csv(base_path + 'user_device.csv')\n",
        "\n",
        "# Solution\n",
        "pd.merge(df1, df2[['use_id', 'platform', 'device']], on='use_id')"
      ]
    },
    {
      "cell_type": "markdown",
      "metadata": {
        "id": "O7xMGsP9jfiy"
      },
      "source": [
        "## TODO! Analyze [Titanic](https://www.kaggle.com/c/titanic) Data\n",
        "#### (until 21th Sep 2022)\n",
        "\n"
      ]
    },
    {
      "cell_type": "markdown",
      "metadata": {
        "id": "w_tj3GXKz_4l"
      },
      "source": [
        "### 0. Data load"
      ]
    },
    {
      "cell_type": "code",
      "execution_count": 73,
      "metadata": {
        "id": "cXbMXD93_2nI"
      },
      "outputs": [],
      "source": [
        "import seaborn as sns\n",
        "\n",
        "# Input\n",
        "df = sns.load_dataset(\"titanic\")"
      ]
    },
    {
      "cell_type": "markdown",
      "metadata": {
        "id": "Cd9tZwsELWSF"
      },
      "source": [
        "### 1. Show the first five samples of DataFrame "
      ]
    },
    {
      "cell_type": "code",
      "execution_count": 72,
      "metadata": {
        "colab": {
          "base_uri": "https://localhost:8080/"
        },
        "id": "6KlqR5d1LZSl",
        "outputId": "392e633d-7039-4938-98bd-f788d473f1eb"
      },
      "outputs": [
        {
          "output_type": "execute_result",
          "data": {
            "text/plain": [
              "class   sex   \n",
              "First   female    106.125798\n",
              "        male       67.226127\n",
              "Second  female     21.970121\n",
              "        male       19.741782\n",
              "Third   female     16.118810\n",
              "Name: fare, dtype: float64"
            ]
          },
          "metadata": {},
          "execution_count": 72
        }
      ],
      "source": [
        "df.head()"
      ]
    },
    {
      "cell_type": "markdown",
      "metadata": {
        "id": "t8zJlneX3B0e"
      },
      "source": [
        "### 2. Print a concise summary of a DataFrame.\n",
        "Column names, missing values for each column, and data type for each column."
      ]
    },
    {
      "cell_type": "code",
      "execution_count": null,
      "metadata": {
        "colab": {
          "base_uri": "https://localhost:8080/"
        },
        "id": "Cym6MsINmrvL",
        "outputId": "a044ef1c-7f20-44ae-a6a9-10cd05320b07"
      },
      "outputs": [
        {
          "output_type": "stream",
          "name": "stdout",
          "text": [
            "<class 'pandas.core.frame.DataFrame'>\n",
            "RangeIndex: 891 entries, 0 to 890\n",
            "Data columns (total 15 columns):\n",
            " #   Column       Non-Null Count  Dtype   \n",
            "---  ------       --------------  -----   \n",
            " 0   survived     891 non-null    int64   \n",
            " 1   pclass       891 non-null    int64   \n",
            " 2   sex          891 non-null    object  \n",
            " 3   age          714 non-null    float64 \n",
            " 4   sibsp        891 non-null    int64   \n",
            " 5   parch        891 non-null    int64   \n",
            " 6   fare         891 non-null    float64 \n",
            " 7   embarked     889 non-null    object  \n",
            " 8   class        891 non-null    category\n",
            " 9   who          891 non-null    object  \n",
            " 10  adult_male   891 non-null    bool    \n",
            " 11  deck         203 non-null    category\n",
            " 12  embark_town  889 non-null    object  \n",
            " 13  alive        891 non-null    object  \n",
            " 14  alone        891 non-null    bool    \n",
            "dtypes: bool(2), category(2), float64(2), int64(4), object(5)\n",
            "memory usage: 80.7+ KB\n"
          ]
        }
      ],
      "source": [
        "df.info()"
      ]
    },
    {
      "cell_type": "markdown",
      "metadata": {
        "id": "LCcozjpg6aOg"
      },
      "source": [
        "### 3. Generate descriptive statistics."
      ]
    },
    {
      "cell_type": "code",
      "execution_count": null,
      "metadata": {
        "colab": {
          "base_uri": "https://localhost:8080/",
          "height": 300
        },
        "id": "Z940ZhoO6eUT",
        "outputId": "60155c6c-f83d-4d40-88fc-a1356b4bc14a"
      },
      "outputs": [
        {
          "output_type": "execute_result",
          "data": {
            "text/plain": [
              "         survived      pclass         age       sibsp       parch        fare\n",
              "count  891.000000  891.000000  714.000000  891.000000  891.000000  891.000000\n",
              "mean     0.383838    2.308642   29.699118    0.523008    0.381594   32.204208\n",
              "std      0.486592    0.836071   14.526497    1.102743    0.806057   49.693429\n",
              "min      0.000000    1.000000    0.420000    0.000000    0.000000    0.000000\n",
              "25%      0.000000    2.000000   20.125000    0.000000    0.000000    7.910400\n",
              "50%      0.000000    3.000000   28.000000    0.000000    0.000000   14.454200\n",
              "75%      1.000000    3.000000   38.000000    1.000000    0.000000   31.000000\n",
              "max      1.000000    3.000000   80.000000    8.000000    6.000000  512.329200"
            ],
            "text/html": [
              "\n",
              "  <div id=\"df-09691f21-f22b-40a3-a532-24c2cecbe0d2\">\n",
              "    <div class=\"colab-df-container\">\n",
              "      <div>\n",
              "<style scoped>\n",
              "    .dataframe tbody tr th:only-of-type {\n",
              "        vertical-align: middle;\n",
              "    }\n",
              "\n",
              "    .dataframe tbody tr th {\n",
              "        vertical-align: top;\n",
              "    }\n",
              "\n",
              "    .dataframe thead th {\n",
              "        text-align: right;\n",
              "    }\n",
              "</style>\n",
              "<table border=\"1\" class=\"dataframe\">\n",
              "  <thead>\n",
              "    <tr style=\"text-align: right;\">\n",
              "      <th></th>\n",
              "      <th>survived</th>\n",
              "      <th>pclass</th>\n",
              "      <th>age</th>\n",
              "      <th>sibsp</th>\n",
              "      <th>parch</th>\n",
              "      <th>fare</th>\n",
              "    </tr>\n",
              "  </thead>\n",
              "  <tbody>\n",
              "    <tr>\n",
              "      <th>count</th>\n",
              "      <td>891.000000</td>\n",
              "      <td>891.000000</td>\n",
              "      <td>714.000000</td>\n",
              "      <td>891.000000</td>\n",
              "      <td>891.000000</td>\n",
              "      <td>891.000000</td>\n",
              "    </tr>\n",
              "    <tr>\n",
              "      <th>mean</th>\n",
              "      <td>0.383838</td>\n",
              "      <td>2.308642</td>\n",
              "      <td>29.699118</td>\n",
              "      <td>0.523008</td>\n",
              "      <td>0.381594</td>\n",
              "      <td>32.204208</td>\n",
              "    </tr>\n",
              "    <tr>\n",
              "      <th>std</th>\n",
              "      <td>0.486592</td>\n",
              "      <td>0.836071</td>\n",
              "      <td>14.526497</td>\n",
              "      <td>1.102743</td>\n",
              "      <td>0.806057</td>\n",
              "      <td>49.693429</td>\n",
              "    </tr>\n",
              "    <tr>\n",
              "      <th>min</th>\n",
              "      <td>0.000000</td>\n",
              "      <td>1.000000</td>\n",
              "      <td>0.420000</td>\n",
              "      <td>0.000000</td>\n",
              "      <td>0.000000</td>\n",
              "      <td>0.000000</td>\n",
              "    </tr>\n",
              "    <tr>\n",
              "      <th>25%</th>\n",
              "      <td>0.000000</td>\n",
              "      <td>2.000000</td>\n",
              "      <td>20.125000</td>\n",
              "      <td>0.000000</td>\n",
              "      <td>0.000000</td>\n",
              "      <td>7.910400</td>\n",
              "    </tr>\n",
              "    <tr>\n",
              "      <th>50%</th>\n",
              "      <td>0.000000</td>\n",
              "      <td>3.000000</td>\n",
              "      <td>28.000000</td>\n",
              "      <td>0.000000</td>\n",
              "      <td>0.000000</td>\n",
              "      <td>14.454200</td>\n",
              "    </tr>\n",
              "    <tr>\n",
              "      <th>75%</th>\n",
              "      <td>1.000000</td>\n",
              "      <td>3.000000</td>\n",
              "      <td>38.000000</td>\n",
              "      <td>1.000000</td>\n",
              "      <td>0.000000</td>\n",
              "      <td>31.000000</td>\n",
              "    </tr>\n",
              "    <tr>\n",
              "      <th>max</th>\n",
              "      <td>1.000000</td>\n",
              "      <td>3.000000</td>\n",
              "      <td>80.000000</td>\n",
              "      <td>8.000000</td>\n",
              "      <td>6.000000</td>\n",
              "      <td>512.329200</td>\n",
              "    </tr>\n",
              "  </tbody>\n",
              "</table>\n",
              "</div>\n",
              "      <button class=\"colab-df-convert\" onclick=\"convertToInteractive('df-09691f21-f22b-40a3-a532-24c2cecbe0d2')\"\n",
              "              title=\"Convert this dataframe to an interactive table.\"\n",
              "              style=\"display:none;\">\n",
              "        \n",
              "  <svg xmlns=\"http://www.w3.org/2000/svg\" height=\"24px\"viewBox=\"0 0 24 24\"\n",
              "       width=\"24px\">\n",
              "    <path d=\"M0 0h24v24H0V0z\" fill=\"none\"/>\n",
              "    <path d=\"M18.56 5.44l.94 2.06.94-2.06 2.06-.94-2.06-.94-.94-2.06-.94 2.06-2.06.94zm-11 1L8.5 8.5l.94-2.06 2.06-.94-2.06-.94L8.5 2.5l-.94 2.06-2.06.94zm10 10l.94 2.06.94-2.06 2.06-.94-2.06-.94-.94-2.06-.94 2.06-2.06.94z\"/><path d=\"M17.41 7.96l-1.37-1.37c-.4-.4-.92-.59-1.43-.59-.52 0-1.04.2-1.43.59L10.3 9.45l-7.72 7.72c-.78.78-.78 2.05 0 2.83L4 21.41c.39.39.9.59 1.41.59.51 0 1.02-.2 1.41-.59l7.78-7.78 2.81-2.81c.8-.78.8-2.07 0-2.86zM5.41 20L4 18.59l7.72-7.72 1.47 1.35L5.41 20z\"/>\n",
              "  </svg>\n",
              "      </button>\n",
              "      \n",
              "  <style>\n",
              "    .colab-df-container {\n",
              "      display:flex;\n",
              "      flex-wrap:wrap;\n",
              "      gap: 12px;\n",
              "    }\n",
              "\n",
              "    .colab-df-convert {\n",
              "      background-color: #E8F0FE;\n",
              "      border: none;\n",
              "      border-radius: 50%;\n",
              "      cursor: pointer;\n",
              "      display: none;\n",
              "      fill: #1967D2;\n",
              "      height: 32px;\n",
              "      padding: 0 0 0 0;\n",
              "      width: 32px;\n",
              "    }\n",
              "\n",
              "    .colab-df-convert:hover {\n",
              "      background-color: #E2EBFA;\n",
              "      box-shadow: 0px 1px 2px rgba(60, 64, 67, 0.3), 0px 1px 3px 1px rgba(60, 64, 67, 0.15);\n",
              "      fill: #174EA6;\n",
              "    }\n",
              "\n",
              "    [theme=dark] .colab-df-convert {\n",
              "      background-color: #3B4455;\n",
              "      fill: #D2E3FC;\n",
              "    }\n",
              "\n",
              "    [theme=dark] .colab-df-convert:hover {\n",
              "      background-color: #434B5C;\n",
              "      box-shadow: 0px 1px 3px 1px rgba(0, 0, 0, 0.15);\n",
              "      filter: drop-shadow(0px 1px 2px rgba(0, 0, 0, 0.3));\n",
              "      fill: #FFFFFF;\n",
              "    }\n",
              "  </style>\n",
              "\n",
              "      <script>\n",
              "        const buttonEl =\n",
              "          document.querySelector('#df-09691f21-f22b-40a3-a532-24c2cecbe0d2 button.colab-df-convert');\n",
              "        buttonEl.style.display =\n",
              "          google.colab.kernel.accessAllowed ? 'block' : 'none';\n",
              "\n",
              "        async function convertToInteractive(key) {\n",
              "          const element = document.querySelector('#df-09691f21-f22b-40a3-a532-24c2cecbe0d2');\n",
              "          const dataTable =\n",
              "            await google.colab.kernel.invokeFunction('convertToInteractive',\n",
              "                                                     [key], {});\n",
              "          if (!dataTable) return;\n",
              "\n",
              "          const docLinkHtml = 'Like what you see? Visit the ' +\n",
              "            '<a target=\"_blank\" href=https://colab.research.google.com/notebooks/data_table.ipynb>data table notebook</a>'\n",
              "            + ' to learn more about interactive tables.';\n",
              "          element.innerHTML = '';\n",
              "          dataTable['output_type'] = 'display_data';\n",
              "          await google.colab.output.renderOutput(dataTable, element);\n",
              "          const docLink = document.createElement('div');\n",
              "          docLink.innerHTML = docLinkHtml;\n",
              "          element.appendChild(docLink);\n",
              "        }\n",
              "      </script>\n",
              "    </div>\n",
              "  </div>\n",
              "  "
            ]
          },
          "metadata": {},
          "execution_count": 52
        }
      ],
      "source": [
        "df.describe()"
      ]
    },
    {
      "cell_type": "markdown",
      "metadata": {
        "id": "waBkfdXnLLVq"
      },
      "source": [
        "### 4. Check the number of missing samples per each column"
      ]
    },
    {
      "cell_type": "code",
      "execution_count": null,
      "metadata": {
        "colab": {
          "base_uri": "https://localhost:8080/"
        },
        "id": "xfCF1g5bLHQp",
        "outputId": "1550ed66-fe56-49f7-98b8-3a704979a63c"
      },
      "outputs": [
        {
          "output_type": "execute_result",
          "data": {
            "text/plain": [
              "survived         0\n",
              "pclass           0\n",
              "sex              0\n",
              "age            177\n",
              "sibsp            0\n",
              "parch            0\n",
              "fare             0\n",
              "embarked         2\n",
              "class            0\n",
              "who              0\n",
              "adult_male       0\n",
              "deck           688\n",
              "embark_town      2\n",
              "alive            0\n",
              "alone            0\n",
              "dtype: int64"
            ]
          },
          "metadata": {},
          "execution_count": 51
        }
      ],
      "source": [
        "df.isnull().sum()"
      ]
    },
    {
      "cell_type": "markdown",
      "metadata": {
        "id": "IMzB_BEimFLY"
      },
      "source": [
        "### 5. Return a Series containing counts of unique values on `class` column."
      ]
    },
    {
      "cell_type": "code",
      "execution_count": 74,
      "metadata": {
        "colab": {
          "base_uri": "https://localhost:8080/"
        },
        "id": "s1HbHu1Qk6BH",
        "outputId": "fd78ee91-e406-48d6-dd8d-26e59f1dc47a"
      },
      "outputs": [
        {
          "output_type": "execute_result",
          "data": {
            "text/plain": [
              "First     216\n",
              "Second    184\n",
              "Third     491\n",
              "Name: class, dtype: int64"
            ]
          },
          "metadata": {},
          "execution_count": 74
        }
      ],
      "source": [
        "df['class'].value_counts(sort=False)"
      ]
    },
    {
      "cell_type": "markdown",
      "metadata": {
        "id": "OCZDxWM7JbkE"
      },
      "source": [
        "### 6. Calculate the mean of `fare` according to `class` and `sex`\n",
        "(hint, us `df.groupby`)"
      ]
    },
    {
      "cell_type": "code",
      "execution_count": 56,
      "metadata": {
        "colab": {
          "base_uri": "https://localhost:8080/"
        },
        "id": "udCR8IrFJePD",
        "outputId": "610aa032-8472-4757-e67f-94f746ef6f9f"
      },
      "outputs": [
        {
          "output_type": "execute_result",
          "data": {
            "text/plain": [
              "class   sex   \n",
              "First   female    106.125798\n",
              "        male       67.226127\n",
              "Second  female     21.970121\n",
              "        male       19.741782\n",
              "Third   female     16.118810\n",
              "        male       12.661633\n",
              "Name: fare, dtype: float64"
            ]
          },
          "metadata": {},
          "execution_count": 56
        }
      ],
      "source": [
        "df.groupby(['class', 'sex'])['fare'].mean()"
      ]
    },
    {
      "cell_type": "markdown",
      "metadata": {
        "id": "Dtu6qmCvKCsh"
      },
      "source": [
        "### 7. Do same thing by using `df.pivot_table`"
      ]
    },
    {
      "cell_type": "code",
      "execution_count": 79,
      "metadata": {
        "colab": {
          "base_uri": "https://localhost:8080/",
          "height": 269
        },
        "id": "Q3_3cAIGm9MP",
        "outputId": "f0790124-d3d1-4dd3-de1b-60c895d5e669"
      },
      "outputs": [
        {
          "output_type": "execute_result",
          "data": {
            "text/plain": [
              "                     fare\n",
              "class  sex               \n",
              "First  female  106.125798\n",
              "       male     67.226127\n",
              "Second female   21.970121\n",
              "       male     19.741782\n",
              "Third  female   16.118810\n",
              "       male     12.661633"
            ],
            "text/html": [
              "\n",
              "  <div id=\"df-fd9fc129-25a2-4946-a38d-283ac3f7d94b\">\n",
              "    <div class=\"colab-df-container\">\n",
              "      <div>\n",
              "<style scoped>\n",
              "    .dataframe tbody tr th:only-of-type {\n",
              "        vertical-align: middle;\n",
              "    }\n",
              "\n",
              "    .dataframe tbody tr th {\n",
              "        vertical-align: top;\n",
              "    }\n",
              "\n",
              "    .dataframe thead th {\n",
              "        text-align: right;\n",
              "    }\n",
              "</style>\n",
              "<table border=\"1\" class=\"dataframe\">\n",
              "  <thead>\n",
              "    <tr style=\"text-align: right;\">\n",
              "      <th></th>\n",
              "      <th></th>\n",
              "      <th>fare</th>\n",
              "    </tr>\n",
              "    <tr>\n",
              "      <th>class</th>\n",
              "      <th>sex</th>\n",
              "      <th></th>\n",
              "    </tr>\n",
              "  </thead>\n",
              "  <tbody>\n",
              "    <tr>\n",
              "      <th rowspan=\"2\" valign=\"top\">First</th>\n",
              "      <th>female</th>\n",
              "      <td>106.125798</td>\n",
              "    </tr>\n",
              "    <tr>\n",
              "      <th>male</th>\n",
              "      <td>67.226127</td>\n",
              "    </tr>\n",
              "    <tr>\n",
              "      <th rowspan=\"2\" valign=\"top\">Second</th>\n",
              "      <th>female</th>\n",
              "      <td>21.970121</td>\n",
              "    </tr>\n",
              "    <tr>\n",
              "      <th>male</th>\n",
              "      <td>19.741782</td>\n",
              "    </tr>\n",
              "    <tr>\n",
              "      <th rowspan=\"2\" valign=\"top\">Third</th>\n",
              "      <th>female</th>\n",
              "      <td>16.118810</td>\n",
              "    </tr>\n",
              "    <tr>\n",
              "      <th>male</th>\n",
              "      <td>12.661633</td>\n",
              "    </tr>\n",
              "  </tbody>\n",
              "</table>\n",
              "</div>\n",
              "      <button class=\"colab-df-convert\" onclick=\"convertToInteractive('df-fd9fc129-25a2-4946-a38d-283ac3f7d94b')\"\n",
              "              title=\"Convert this dataframe to an interactive table.\"\n",
              "              style=\"display:none;\">\n",
              "        \n",
              "  <svg xmlns=\"http://www.w3.org/2000/svg\" height=\"24px\"viewBox=\"0 0 24 24\"\n",
              "       width=\"24px\">\n",
              "    <path d=\"M0 0h24v24H0V0z\" fill=\"none\"/>\n",
              "    <path d=\"M18.56 5.44l.94 2.06.94-2.06 2.06-.94-2.06-.94-.94-2.06-.94 2.06-2.06.94zm-11 1L8.5 8.5l.94-2.06 2.06-.94-2.06-.94L8.5 2.5l-.94 2.06-2.06.94zm10 10l.94 2.06.94-2.06 2.06-.94-2.06-.94-.94-2.06-.94 2.06-2.06.94z\"/><path d=\"M17.41 7.96l-1.37-1.37c-.4-.4-.92-.59-1.43-.59-.52 0-1.04.2-1.43.59L10.3 9.45l-7.72 7.72c-.78.78-.78 2.05 0 2.83L4 21.41c.39.39.9.59 1.41.59.51 0 1.02-.2 1.41-.59l7.78-7.78 2.81-2.81c.8-.78.8-2.07 0-2.86zM5.41 20L4 18.59l7.72-7.72 1.47 1.35L5.41 20z\"/>\n",
              "  </svg>\n",
              "      </button>\n",
              "      \n",
              "  <style>\n",
              "    .colab-df-container {\n",
              "      display:flex;\n",
              "      flex-wrap:wrap;\n",
              "      gap: 12px;\n",
              "    }\n",
              "\n",
              "    .colab-df-convert {\n",
              "      background-color: #E8F0FE;\n",
              "      border: none;\n",
              "      border-radius: 50%;\n",
              "      cursor: pointer;\n",
              "      display: none;\n",
              "      fill: #1967D2;\n",
              "      height: 32px;\n",
              "      padding: 0 0 0 0;\n",
              "      width: 32px;\n",
              "    }\n",
              "\n",
              "    .colab-df-convert:hover {\n",
              "      background-color: #E2EBFA;\n",
              "      box-shadow: 0px 1px 2px rgba(60, 64, 67, 0.3), 0px 1px 3px 1px rgba(60, 64, 67, 0.15);\n",
              "      fill: #174EA6;\n",
              "    }\n",
              "\n",
              "    [theme=dark] .colab-df-convert {\n",
              "      background-color: #3B4455;\n",
              "      fill: #D2E3FC;\n",
              "    }\n",
              "\n",
              "    [theme=dark] .colab-df-convert:hover {\n",
              "      background-color: #434B5C;\n",
              "      box-shadow: 0px 1px 3px 1px rgba(0, 0, 0, 0.15);\n",
              "      filter: drop-shadow(0px 1px 2px rgba(0, 0, 0, 0.3));\n",
              "      fill: #FFFFFF;\n",
              "    }\n",
              "  </style>\n",
              "\n",
              "      <script>\n",
              "        const buttonEl =\n",
              "          document.querySelector('#df-fd9fc129-25a2-4946-a38d-283ac3f7d94b button.colab-df-convert');\n",
              "        buttonEl.style.display =\n",
              "          google.colab.kernel.accessAllowed ? 'block' : 'none';\n",
              "\n",
              "        async function convertToInteractive(key) {\n",
              "          const element = document.querySelector('#df-fd9fc129-25a2-4946-a38d-283ac3f7d94b');\n",
              "          const dataTable =\n",
              "            await google.colab.kernel.invokeFunction('convertToInteractive',\n",
              "                                                     [key], {});\n",
              "          if (!dataTable) return;\n",
              "\n",
              "          const docLinkHtml = 'Like what you see? Visit the ' +\n",
              "            '<a target=\"_blank\" href=https://colab.research.google.com/notebooks/data_table.ipynb>data table notebook</a>'\n",
              "            + ' to learn more about interactive tables.';\n",
              "          element.innerHTML = '';\n",
              "          dataTable['output_type'] = 'display_data';\n",
              "          await google.colab.output.renderOutput(dataTable, element);\n",
              "          const docLink = document.createElement('div');\n",
              "          docLink.innerHTML = docLinkHtml;\n",
              "          element.appendChild(docLink);\n",
              "        }\n",
              "      </script>\n",
              "    </div>\n",
              "  </div>\n",
              "  "
            ]
          },
          "metadata": {},
          "execution_count": 79
        }
      ],
      "source": [
        "df.pivot_table(values='fare', index=['class', 'sex'])"
      ]
    }
  ],
  "metadata": {
    "colab": {
      "collapsed_sections": [],
      "provenance": [],
      "include_colab_link": true
    },
    "kernelspec": {
      "display_name": "Python 3",
      "name": "python3"
    },
    "language_info": {
      "name": "python"
    }
  },
  "nbformat": 4,
  "nbformat_minor": 0
}